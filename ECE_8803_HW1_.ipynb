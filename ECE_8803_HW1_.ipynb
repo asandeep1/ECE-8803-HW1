{
  "nbformat": 4,
  "nbformat_minor": 0,
  "metadata": {
    "colab": {
      "provenance": [],
      "toc_visible": true,
      "authorship_tag": "ABX9TyN5UCj31gqknCYJEbJqwxZh",
      "include_colab_link": true
    },
    "kernelspec": {
      "name": "python3",
      "display_name": "Python 3"
    },
    "language_info": {
      "name": "python"
    }
  },
  "cells": [
    {
      "cell_type": "markdown",
      "metadata": {
        "id": "view-in-github",
        "colab_type": "text"
      },
      "source": [
        "<a href=\"https://colab.research.google.com/github/asandeep1/ECE-8803-HW1/blob/main/ECE_8803_HW1_.ipynb\" target=\"_parent\"><img src=\"https://colab.research.google.com/assets/colab-badge.svg\" alt=\"Open In Colab\"/></a>"
      ]
    },
    {
      "cell_type": "markdown",
      "source": [
        "Problem 1 Part b)"
      ],
      "metadata": {
        "id": "Zo1618-4ydg6"
      }
    },
    {
      "cell_type": "code",
      "source": [
        "import numpy as np\n",
        "import tensorflow as tf\n",
        "from tensorflow.keras.models import Sequential\n",
        "from tensorflow.keras.layers import Dense\n",
        "import matplotlib.pyplot as plt\n",
        "\n",
        "def plot_image_with_label(image_flat, label, ax):\n",
        "    image_grid = image_flat.reshape(3, 3)\n",
        "    ax.imshow(image_grid, cmap='gray', vmin=0, vmax=1)\n",
        "    ax.set_title(f'P = {label:.4f}', fontsize=10)\n",
        "    ax.set_xticks([])\n",
        "    ax.set_yticks([])\n",
        "\n",
        "# 0 means black, 1 means white\n",
        "def generate_img(sampleSize):\n",
        "    imgs = []\n",
        "    labels = []\n",
        "    seen_imgs = set()\n",
        "    total_blk_pixels = 2304\n",
        "\n",
        "    while len(imgs) < sampleSize:\n",
        "        img_flat = np.random.randint(0, 2, 9)\n",
        "        img_tup = tuple(img_flat)\n",
        "\n",
        "        if img_tup not in seen_imgs:\n",
        "            num_blk_pxls = 9 - np.sum(img_flat)\n",
        "            prob_img = num_blk_pxls/total_blk_pixels\n",
        "\n",
        "            imgs.append(img_flat)\n",
        "            labels.append(prob_img)\n",
        "            seen_imgs.add(img_tup)\n",
        "    return np.array(imgs), np.array(labels)\n",
        "\n",
        "def buildMLP(xTrain, yTrain):\n",
        "    model = Sequential([\n",
        "        Dense(64, activation='relu', input_shape=(9,)),\n",
        "        Dense(32, activation='relu'),\n",
        "        Dense(1, activation='linear')\n",
        "    ])\n",
        "    model.compile(optimizer=tf.keras.optimizers.SGD(learning_rate=0.01, momentum=0.9), loss='mse')\n",
        "    model.fit(xTrain, yTrain, epochs=50, batch_size=16, verbose=0)\n",
        "    return model\n",
        "\n",
        "def gen_Samples(model, sampleSize, num_proposals=10000):\n",
        "    samples = []\n",
        "    while len(samples) < sampleSize:\n",
        "        gen_imgs = np.random.randint(0, 2, (num_proposals, 9))\n",
        "        predict_labels = model.predict(gen_imgs, verbose=0).flatten()\n",
        "\n",
        "        max_prob = np.max(predict_labels)\n",
        "        norm_probs = predict_labels / max_prob if max_prob > 0 else predict_labels\n",
        "\n",
        "        # rejection sampling\n",
        "        for i in range(num_proposals):\n",
        "            if np.random.rand() < norm_probs[i] and len(samples) < sampleSize:\n",
        "                samples.append(gen_imgs[i])\n",
        "    return np.array(samples)\n",
        "\n",
        "# Create training data\n",
        "x_train, x_labels = generate_img(200)\n",
        "\n",
        "# Train the model\n",
        "myMLP = buildMLP(x_train, x_labels)\n",
        "\n",
        "# Generate new samples\n",
        "generated_imgs = gen_Samples(myMLP, 5)\n",
        "\n",
        "# Visualization of samples\n",
        "fig, axes = plt.subplots(1, 5, figsize=(12, 3))\n",
        "fig.suptitle('Generated Samples and Their Predicted Labels', fontsize=16)\n",
        "\n",
        "for i in range(5):\n",
        "    plot_image_with_label(generated_imgs[i], labels[i], axes[i])\n",
        "\n",
        "plt.tight_layout(rect=[0, 0, 1, 0.95])\n",
        "plt.show()\n",
        "\n",
        "plt.tight_layout()\n",
        "plt.show()"
      ],
      "metadata": {
        "colab": {
          "base_uri": "https://localhost:8080/",
          "height": 333
        },
        "id": "lIc_T0_pkyQc",
        "outputId": "ed43a03e-6bfc-4855-cfc5-131a3df7726b"
      },
      "execution_count": 7,
      "outputs": [
        {
          "output_type": "display_data",
          "data": {
            "text/plain": [
              "<Figure size 1200x300 with 5 Axes>"
            ],
            "image/png": "[encoded data removed]"
          },
          "metadata": {}
        },
        {
          "output_type": "display_data",
          "data": {
            "text/plain": [
              "<Figure size 640x480 with 0 Axes>"
            ]
          },
          "metadata": {}
        }
      ]
    },
    {
      "cell_type": "markdown",
      "source": [
        "Problem 1 Part c)"
      ],
      "metadata": {
        "id": "ZfdvXYzwymCL"
      }
    },
    {
      "cell_type": "code",
      "source": [
        "import numpy as np\n",
        "import tensorflow as tf\n",
        "from tensorflow.keras.models import Sequential\n",
        "from tensorflow.keras.layers import Dense\n",
        "import matplotlib.pyplot as plt\n",
        "\n",
        "def plot_image_with_label(image_flat, label, ax):\n",
        "    image_grid = image_flat.reshape(28, 28)\n",
        "    ax.imshow(image_grid, cmap='gray', vmin=0, vmax=1)\n",
        "    ax.set_title(f'P = {label:.4f}', fontsize=10)\n",
        "    ax.set_xticks([])\n",
        "    ax.set_yticks([])\n",
        "\n",
        "# 0 means black, 1 means white\n",
        "# Generating image with size 28x28 instead of 3x3 would mean that there are\n",
        "\n",
        "numPxlsPerImg = 28*28\n",
        "\n",
        "def generate_img(sampleSize):\n",
        "    imgs = []\n",
        "    labels = []\n",
        "    seen_imgs = set()\n",
        "    sampleSpace = 2**numPxlsPerImg\n",
        "    total_blk_pixels = numPxlsPerImg*2**(numPxlsPerImg-1)\n",
        "\n",
        "    while len(imgs) < sampleSize:\n",
        "        img_flat = np.random.randint(0, 2, numPxlsPerImg)\n",
        "        img_tup = tuple(img_flat)\n",
        "\n",
        "        if img_tup not in seen_imgs:\n",
        "            num_blk_pxls = numPxlsPerImg - np.sum(img_flat)\n",
        "            prob_img = num_blk_pxls/total_blk_pixels\n",
        "\n",
        "            imgs.append(img_flat)\n",
        "            labels.append(prob_img)\n",
        "            seen_imgs.add(img_tup)\n",
        "    return np.array(imgs), np.array(labels)\n",
        "\n",
        "def buildMLP(xTrain, yTrain):\n",
        "    model = Sequential([\n",
        "        Dense(64, activation='relu', input_shape=(numPxlsPerImg,)),\n",
        "        Dense(32, activation='relu'),\n",
        "        Dense(1, activation='linear')\n",
        "    ])\n",
        "    model.compile(optimizer=tf.keras.optimizers.SGD(learning_rate=0.01, momentum=0.9), loss='mse')\n",
        "    model.fit(xTrain, yTrain, epochs=50, batch_size=16, verbose=0)\n",
        "    return model\n",
        "\n",
        "def gen_Samples(model, sampleSize, num_proposals=10000):\n",
        "    samples = []\n",
        "    labels = []\n",
        "    while len(samples) < sampleSize:\n",
        "        gen_imgs = np.random.randint(0, 2, (num_proposals, numPxlsPerImg))\n",
        "        predict_labels = model.predict(gen_imgs, verbose=0).flatten()\n",
        "\n",
        "        max_prob = np.max(predict_labels)\n",
        "        norm_probs = predict_labels / max_prob if max_prob > 0 else predict_labels\n",
        "\n",
        "        # rejection sampling\n",
        "        for i in range(num_proposals):\n",
        "            if np.random.rand() < norm_probs[i] and len(samples) < sampleSize:\n",
        "                samples.append(gen_imgs[i])\n",
        "                labels.append(norm_probs[i])\n",
        "    return np.array(samples), labels\n",
        "\n",
        "# Create training data\n",
        "x_train, x_labels = generate_img(200)\n",
        "\n",
        "# Train the model\n",
        "myMLP = buildMLP(x_train, x_labels)\n",
        "\n",
        "# Generate new samples\n",
        "generated_imgs, labels = gen_Samples(myMLP, 5)\n",
        "\n",
        "# Visualization of samples\n",
        "fig, axes = plt.subplots(1, 5, figsize=(12, 3))\n",
        "fig.suptitle('Generated Samples and Their Predicted Labels', fontsize=16)\n",
        "\n",
        "for i in range(5):\n",
        "    plot_image_with_label(generated_imgs[i], labels[i], axes[i])\n",
        "\n",
        "plt.tight_layout(rect=[0, 0, 1, 0.95])\n",
        "plt.show()\n",
        "\n",
        "plt.tight_layout()\n",
        "plt.show()"
      ],
      "metadata": {
        "colab": {
          "base_uri": "https://localhost:8080/",
          "height": 333
        },
        "outputId": "11cbd25c-fc2d-42fd-e0c3-cdc659ef5f1e",
        "id": "ag2dr2eVyxt-"
      },
      "execution_count": 11,
      "outputs": [
        {
          "output_type": "display_data",
          "data": {
            "text/plain": [
              "<Figure size 1200x300 with 5 Axes>"
            ],
            "image/png": "[encoded data removed]"
          },
          "metadata": {}
        },
        {
          "output_type": "display_data",
          "data": {
            "text/plain": [
              "<Figure size 640x480 with 0 Axes>"
            ]
          },
          "metadata": {}
        }
      ]
    }
  ]
}