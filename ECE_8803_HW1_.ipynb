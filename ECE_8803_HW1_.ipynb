{
  "nbformat": 4,
  "nbformat_minor": 0,
  "metadata": {
    "colab": {
      "provenance": [],
      "toc_visible": true,
      "authorship_tag": "ABX9TyOD1dMmW3csdo+lXvywXkqe",
      "include_colab_link": true
    },
    "kernelspec": {
      "name": "python3",
      "display_name": "Python 3"
    },
    "language_info": {
      "name": "python"
    }
  },
  "cells": [
    {
      "cell_type": "markdown",
      "metadata": {
        "id": "view-in-github",
        "colab_type": "text"
      },
      "source": [
        "<a href=\"https://colab.research.google.com/github/asandeep1/ECE-8803-HW1/blob/main/ECE_8803_HW1_.ipynb\" target=\"_parent\"><img src=\"https://colab.research.google.com/assets/colab-badge.svg\" alt=\"Open In Colab\"/></a>"
      ]
    },
    {
      "cell_type": "markdown",
      "source": [
        "Problem 1 Part b)"
      ],
      "metadata": {
        "id": "Zo1618-4ydg6"
      }
    },
    {
      "cell_type": "code",
      "source": [
        "import numpy as np\n",
        "import tensorflow as tf\n",
        "from tensorflow.keras.models import Sequential\n",
        "from tensorflow.keras.layers import Dense\n",
        "import matplotlib.pyplot as plt\n",
        "\n",
        "# 0 means black, 1 means white\n",
        "def generate_img(sampleSize):\n",
        "    imgs = []\n",
        "    labels = []\n",
        "    seen_imgs = set()\n",
        "    total_blk_pixels = 2304\n",
        "\n",
        "    while len(imgs) < sampleSize:\n",
        "        img_flat = np.random.randint(0, 2, 9)\n",
        "        img_tup = tuple(img_flat)\n",
        "\n",
        "        if img_tup not in seen_imgs:\n",
        "            num_blk_pxls = 9 - np.sum(img_flat)\n",
        "            prob_img = num_blk_pxls/total_blk_pixels\n",
        "\n",
        "            imgs.append(img_flat)\n",
        "            labels.append(prob_img)\n",
        "            seen_imgs.add(img_tup)\n",
        "    return np.array(imgs), np.array(labels)\n",
        "\n",
        "def buildMLP(xTrain, yTrain):\n",
        "    model = Sequential([\n",
        "        Dense(64, activation='relu', input_shape=(9,)),\n",
        "        Dense(32, activation='relu'),\n",
        "        Dense(1, activation='linear')\n",
        "    ])\n",
        "    model.compile(optimizer=tf.keras.optimizers.SGD(learning_rate=0.01, momentum=0.9), loss='mse')\n",
        "    model.fit(xTrain, yTrain, epochs=50, batch_size=16, verbose=0)\n",
        "    return model\n",
        "\n",
        "def gen_Samples(model, sampleSize, num_proposals=10000):\n",
        "    samples = []\n",
        "    while len(samples) < sampleSize:\n",
        "        gen_imgs = np.random.randint(0, 2, (num_proposals, 9))\n",
        "        predict_labels = model.predict(gen_imgs, verbose=0).flatten()\n",
        "\n",
        "        max_prob = np.max(predict_labels)\n",
        "        norm_probs = predict_labels / max_prob if max_prob > 0 else predict_labels\n",
        "\n",
        "        # rejection sampling\n",
        "        for i in range(num_proposals):\n",
        "            if np.random.rand() < norm_probs[i] and len(samples) < sampleSize:\n",
        "                samples.append(gen_imgs[i])\n",
        "    return np.array(samples)\n",
        "\n",
        "# Create training data\n",
        "x_train, x_labels = generate_img(200)\n",
        "\n",
        "# Train the model\n",
        "myMLP = buildMLP(x_train, x_labels)\n",
        "\n",
        "# Generate new samples\n",
        "generated_imgs = gen_Samples(myMLP, 5)\n",
        "\n",
        "# Visualization of samples\n",
        "fig, axes = plt.subplots(1, 5, figsize=(10, 2))\n",
        "for i, ax in enumerate(axes):\n",
        "    image_reshaped = generated_imgs[i].reshape(3, 3)\n",
        "    ax.imshow(image_reshaped, cmap='gray')\n",
        "    ax.set_title(f'Sample {i+1}')\n",
        "    ax.axis('off')\n",
        "\n",
        "plt.tight_layout()\n",
        "plt.show()"
      ],
      "metadata": {
        "colab": {
          "base_uri": "https://localhost:8080/",
          "height": 217
        },
        "id": "lIc_T0_pkyQc",
        "outputId": "bc337301-3542-4275-b82e-f34d1ba4d750"
      },
      "execution_count": 3,
      "outputs": [
        {
          "output_type": "display_data",
          "data": {
            "text/plain": [
              "<Figure size 1000x200 with 5 Axes>"
            ],
            "image/png": "[encoded data removed]"
          },
          "metadata": {}
        }
      ]
    }
  ]
}